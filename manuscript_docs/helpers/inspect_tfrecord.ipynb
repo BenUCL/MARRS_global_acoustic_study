{
 "cells": [
  {
   "cell_type": "code",
   "execution_count": null,
   "metadata": {},
   "outputs": [],
   "source": [
    " #@title Imports. { vertical-output: true }\n",
    "\n",
    "import collections\n",
    "from etils import epath\n",
    "from ml_collections import config_dict\n",
    "import matplotlib.pyplot as plt\n",
    "import numpy as np\n",
    "import tensorflow as tf\n",
    "import tqdm\n",
    "from chirp.inference import colab_utils\n",
    "colab_utils.initialize(use_tf_gpu=True, disable_warnings=True)\n",
    "\n",
    "from chirp import audio_utils\n",
    "#from chirp.inference import a2o_utils\n",
    "from chirp.inference import interface\n",
    "from chirp.inference import tf_examples\n",
    "from chirp.inference import models\n",
    "from chirp.models import metrics\n",
    "from chirp.taxonomy import namespace\n",
    "from chirp.inference.search import bootstrap\n",
    "from chirp.inference.search import search\n",
    "from chirp.inference.search import display\n",
    "from chirp.inference.classify import classify\n",
    "from chirp.inference.classify import data_lib\n",
    "\n",
    "# New\n",
    "from chirp.inference import embed_lib\n",
    "from IPython.display import display as ipy_display, HTML\n",
    "import ipywidgets as widgets\n",
    "import os\n",
    "import shutil\n",
    "import pandas as pd"
   ]
  },
  {
   "cell_type": "code",
   "execution_count": null,
   "metadata": {},
   "outputs": [],
   "source": [
    "#@title Set Paths\n",
    "base_dir = os.getenv('BASE_DIR')\n",
    "if not base_dir:\n",
    "    raise ValueError(\"BASE_DIR environment variable is not set.\")"
   ]
  },
  {
   "cell_type": "code",
   "execution_count": null,
   "metadata": {},
   "outputs": [],
   "source": [
    "tfrecord_path = os.path.join(base_dir, \"marrs_acoustics/data/output_dir_guam/raw_embeddings/embeddings-1739904366-00000-of-00010\")\n",
    "\n",
    "def inspect_tfrecord(tfrecord_file: str, num_records: int = 3):\n",
    "    raw_dataset = tf.data.TFRecordDataset(tfrecord_file)\n",
    "\n",
    "    for i, raw_record in enumerate(raw_dataset.take(num_records)):\n",
    "        example = tf.train.Example()\n",
    "        example.ParseFromString(raw_record.numpy())\n",
    "        print(f\"Record {i + 1}:\")\n",
    "        print(example)\n",
    "        print(\"-\" * 50)\n",
    "\n",
    "# Replace 'your_tfrecord_file.tfrecord' with your actual TFRecord file path\n",
    "inspect_tfrecord(tfrecord_path)"
   ]
  }
 ],
 "metadata": {
  "kernelspec": {
   "display_name": "perch_conda_env",
   "language": "python",
   "name": "python3"
  },
  "language_info": {
   "name": "python",
   "version": "3.10.14"
  }
 },
 "nbformat": 4,
 "nbformat_minor": 2
}
